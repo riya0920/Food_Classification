{
  "nbformat": 4,
  "nbformat_minor": 0,
  "metadata": {
    "colab": {
      "provenance": []
    },
    "kernelspec": {
      "name": "python3",
      "display_name": "Python 3"
    },
    "language_info": {
      "name": "python"
    },
    "accelerator": "GPU",
    "gpuClass": "standard"
  },
  "cells": [
    {
      "cell_type": "markdown",
      "source": [
        "#Transfer Learning with TensorFlow Part 1: Feature Extraction\n",
        "\n",
        "Transfer learning is levaraging a working odel's existing architecture and learned patterns for our own problems.\n",
        "There are two main benefits:\n",
        "1. Can levarage an existing neural network architecture proven to work on problems similar to our own.\n",
        "2. Can levarage a working neural network architecture which has already learned patterns on similar data to our own then we can adapt those patterms to our own data"
      ],
      "metadata": {
        "id": "cJX7mjtPpj7R"
      }
    },
    {
      "cell_type": "code",
      "source": [
        "#Are we using a GPU\n",
        "!nvidia-smi"
      ],
      "metadata": {
        "colab": {
          "base_uri": "https://localhost:8080/"
        },
        "id": "lCFTtQJm420X",
        "outputId": "e14370d6-3a28-4e8d-d7cb-0070e455244d"
      },
      "execution_count": null,
      "outputs": [
        {
          "output_type": "stream",
          "name": "stdout",
          "text": [
            "Tue Mar 14 13:49:27 2023       \n",
            "+-----------------------------------------------------------------------------+\n",
            "| NVIDIA-SMI 525.85.12    Driver Version: 525.85.12    CUDA Version: 12.0     |\n",
            "|-------------------------------+----------------------+----------------------+\n",
            "| GPU  Name        Persistence-M| Bus-Id        Disp.A | Volatile Uncorr. ECC |\n",
            "| Fan  Temp  Perf  Pwr:Usage/Cap|         Memory-Usage | GPU-Util  Compute M. |\n",
            "|                               |                      |               MIG M. |\n",
            "|===============================+======================+======================|\n",
            "|   0  Tesla T4            Off  | 00000000:00:04.0 Off |                    0 |\n",
            "| N/A   71C    P0    28W /  70W |      0MiB / 15360MiB |      0%      Default |\n",
            "|                               |                      |                  N/A |\n",
            "+-------------------------------+----------------------+----------------------+\n",
            "                                                                               \n",
            "+-----------------------------------------------------------------------------+\n",
            "| Processes:                                                                  |\n",
            "|  GPU   GI   CI        PID   Type   Process name                  GPU Memory |\n",
            "|        ID   ID                                                   Usage      |\n",
            "|=============================================================================|\n",
            "|  No running processes found                                                 |\n",
            "+-----------------------------------------------------------------------------+\n"
          ]
        }
      ]
    },
    {
      "cell_type": "code",
      "source": [
        "#Downloading the data (10% of the food data )!!\n",
        "import zipfile\n",
        "\n",
        "!wget https://storage.googleapis.com/ztm_tf_course/food_vision/10_food_classes_10_percent.zip\n",
        "\n",
        "zip_ref = zipfile.ZipFile(\"10_food_classes_10_percent.zip\")\n",
        "zip_ref.extractall()\n",
        "zip_ref.close()"
      ],
      "metadata": {
        "colab": {
          "base_uri": "https://localhost:8080/"
        },
        "id": "8iGV7Aw05GJM",
        "outputId": "dafed213-e165-47c6-875b-a78ee66b87ba"
      },
      "execution_count": null,
      "outputs": [
        {
          "output_type": "stream",
          "name": "stdout",
          "text": [
            "--2023-03-15 16:20:00--  https://storage.googleapis.com/ztm_tf_course/food_vision/10_food_classes_10_percent.zip\n",
            "Resolving storage.googleapis.com (storage.googleapis.com)... 108.177.127.128, 142.251.31.128, 142.250.145.128, ...\n",
            "Connecting to storage.googleapis.com (storage.googleapis.com)|108.177.127.128|:443... connected.\n",
            "HTTP request sent, awaiting response... 200 OK\n",
            "Length: 168546183 (161M) [application/zip]\n",
            "Saving to: ‘10_food_classes_10_percent.zip’\n",
            "\n",
            "10_food_classes_10_ 100%[===================>] 160.74M  37.3MB/s    in 5.0s    \n",
            "\n",
            "2023-03-15 16:20:05 (32.0 MB/s) - ‘10_food_classes_10_percent.zip’ saved [168546183/168546183]\n",
            "\n"
          ]
        }
      ]
    },
    {
      "cell_type": "code",
      "source": [
        "#How many images in each folder\n",
        "import os\n",
        "for dirpath, dirnames, filenames in os.walk(\"10_food_classes_10_percent\"):\n",
        "  print(f\"There are {len(dirnames)} directories and {len(filenames)} images in {dirpath}\")"
      ],
      "metadata": {
        "colab": {
          "base_uri": "https://localhost:8080/"
        },
        "id": "fyGqTxcg5qQB",
        "outputId": "8564f7c3-0d03-413e-cdf3-718c69066c4a"
      },
      "execution_count": null,
      "outputs": [
        {
          "output_type": "stream",
          "name": "stdout",
          "text": [
            "There are 2 directories and 0 images in 10_food_classes_10_percent\n",
            "There are 10 directories and 0 images in 10_food_classes_10_percent/test\n",
            "There are 0 directories and 250 images in 10_food_classes_10_percent/test/ice_cream\n",
            "There are 0 directories and 250 images in 10_food_classes_10_percent/test/hamburger\n",
            "There are 0 directories and 250 images in 10_food_classes_10_percent/test/ramen\n",
            "There are 0 directories and 250 images in 10_food_classes_10_percent/test/sushi\n",
            "There are 0 directories and 250 images in 10_food_classes_10_percent/test/grilled_salmon\n",
            "There are 0 directories and 250 images in 10_food_classes_10_percent/test/fried_rice\n",
            "There are 0 directories and 250 images in 10_food_classes_10_percent/test/pizza\n",
            "There are 0 directories and 250 images in 10_food_classes_10_percent/test/chicken_wings\n",
            "There are 0 directories and 250 images in 10_food_classes_10_percent/test/chicken_curry\n",
            "There are 0 directories and 250 images in 10_food_classes_10_percent/test/steak\n",
            "There are 10 directories and 0 images in 10_food_classes_10_percent/train\n",
            "There are 0 directories and 75 images in 10_food_classes_10_percent/train/ice_cream\n",
            "There are 0 directories and 75 images in 10_food_classes_10_percent/train/hamburger\n",
            "There are 0 directories and 75 images in 10_food_classes_10_percent/train/ramen\n",
            "There are 0 directories and 75 images in 10_food_classes_10_percent/train/sushi\n",
            "There are 0 directories and 75 images in 10_food_classes_10_percent/train/grilled_salmon\n",
            "There are 0 directories and 75 images in 10_food_classes_10_percent/train/fried_rice\n",
            "There are 0 directories and 75 images in 10_food_classes_10_percent/train/pizza\n",
            "There are 0 directories and 75 images in 10_food_classes_10_percent/train/chicken_wings\n",
            "There are 0 directories and 75 images in 10_food_classes_10_percent/train/chicken_curry\n",
            "There are 0 directories and 75 images in 10_food_classes_10_percent/train/steak\n"
          ]
        }
      ]
    },
    {
      "cell_type": "code",
      "source": [
        "#Create some data loaders\n",
        "from tensorflow.keras.preprocessing.image import ImageDataGenerator\n",
        "\n",
        "IMAGE_SHAPE = (224,224)\n",
        "BATCH_SIZE = 32\n",
        "\n",
        "train_dir = \"10_food_classes_10_percent/train/\"\n",
        "test_dir = \"10_food_classes_10_percent/test/\"\n",
        "\n",
        "train_datagen = ImageDataGenerator(rescale=1/255.)\n",
        "test_datagen = ImageDataGenerator(rescale = 1/255.)\n",
        "\n",
        "train_data_10_percent = train_datagen.flow_from_directory(train_dir,\n",
        "                                                          target_size = IMAGE_SHAPE,\n",
        "                                                          batch_size = BATCH_SIZE,\n",
        "                                                          class_mode = \"categorical\")\n",
        "\n",
        "test_data_10_percent = test_datagen.flow_from_directory(test_dir,\n",
        "                                                        target_size = IMAGE_SHAPE,\n",
        "                                                        batch_size = BATCH_SIZE,\n",
        "                                                        class_mode = \"categorical\")\n"
      ],
      "metadata": {
        "colab": {
          "base_uri": "https://localhost:8080/"
        },
        "id": "A4YlSOm96SlF",
        "outputId": "a8fd93c2-139a-49c8-9226-3ef626aa5719"
      },
      "execution_count": null,
      "outputs": [
        {
          "output_type": "stream",
          "name": "stdout",
          "text": [
            "Found 750 images belonging to 10 classes.\n",
            "Found 2500 images belonging to 10 classes.\n"
          ]
        }
      ]
    },
    {
      "cell_type": "markdown",
      "source": [
        "# Setting up callbacks while our model trains\n",
        "Callbacks are extra functionality you can add to your model to be performed during or after training. Some of the most popular callbacks:\n",
        "\n",
        "* Tracking experiments with the Tensorboard callback\n",
        "* Model checkpoint with the ModelCheckpoint callback\n",
        "* Stopping a model from training with the EarlyStopping callback"
      ],
      "metadata": {
        "id": "2x9CDQN87nWP"
      }
    },
    {
      "cell_type": "code",
      "source": [
        "#Creating a tensorboard callback (functionized because we need to create a new one for every model)\n",
        "import datetime\n",
        "\n",
        "def create_tensorboard_callback(dir_name,experiment_name):\n",
        "  log_dir = dir_name + \"/\" + experiment_name + \"/\" + datetime.datetime.now().strftime(\"%Y%m%d-%H%M%S\")\n",
        "  tensorboard_callback = tf.keras.callbacks.TensorBoard(log_dir = log_dir)\n",
        "  print(f\"Saving tensorboard log files to {log_dir}\")\n",
        "  return tensorboard_callback\n"
      ],
      "metadata": {
        "id": "oyAxVAi68Xu1"
      },
      "execution_count": null,
      "outputs": []
    },
    {
      "cell_type": "code",
      "source": [
        "#Creating models using TensorFlow hub\n",
        "resnet_url = \"https://tfhub.dev/google/imagenet/resnet_v2_50/feature_vector/4\"\n",
        "\n",
        "efficientnet_url = \"https://tfhub.dev/tensorflow/efficientnet/b0/feature-vector/1\"\n",
        "\n",
        "mobilenetv2_url = \"https://tfhub.dev/google/imagenet/mobilenet_v2_100_224/feature_vector/5\"\n"
      ],
      "metadata": {
        "id": "kh7HKoeZ93yj"
      },
      "execution_count": null,
      "outputs": []
    },
    {
      "cell_type": "code",
      "source": [
        "#Import dependencies\n",
        "import tensorflow as tf\n",
        "import tensorflow_hub as hub\n",
        "from tensorflow.keras import layers"
      ],
      "metadata": {
        "id": "d0kHSuzFBUCa"
      },
      "execution_count": null,
      "outputs": []
    },
    {
      "cell_type": "code",
      "source": [
        "#Lets make a create model function to create a model from a URL\n",
        "def create_model (model_url,num_classes=10):\n",
        "  feature_extractor_layer = hub.KerasLayer(model_url,\n",
        "                                           trainable = False,\n",
        "                                           name=\"feature_extraction\",\n",
        "                                           input_shape = IMAGE_SHAPE+(3,))\n",
        "\n",
        "  model = tf.keras.Sequential([\n",
        "      feature_extractor_layer,\n",
        "      layers.Dense(num_classes,activation=\"softmax\",name=\"output_layer\")\n",
        "\n",
        "\n",
        "  return model\n"
      ],
      "metadata": {
        "id": "hcecJlVfBcPU"
      },
      "execution_count": null,
      "outputs": []
    },
    {
      "cell_type": "code",
      "source": [
        "import pathlib\n",
        "import numpy as np\n",
        "data_dir = pathlib.Path(\"10_food_classes_10_percent/train/\")\n",
        "class_names = np.array(sorted([item.name for item in data_dir.glob(\"*\")]))\n",
        "class_names = class_names[:]\n",
        "print(class_names)"
      ],
      "metadata": {
        "colab": {
          "base_uri": "https://localhost:8080/"
        },
        "id": "c18gAeV9c4AP",
        "outputId": "358f7af4-3141-4349-f936-4c6d414500b9"
      },
      "execution_count": null,
      "outputs": [
        {
          "output_type": "stream",
          "name": "stdout",
          "text": [
            "['chicken_curry' 'chicken_wings' 'fried_rice' 'grilled_salmon' 'hamburger'\n",
            " 'ice_cream' 'pizza' 'ramen' 'steak' 'sushi']\n"
          ]
        }
      ]
    },
    {
      "cell_type": "code",
      "source": [
        "#Create Resnet tensorflowhub feature extraction model\n",
        "resnet_model = create_model(resnet_url,\n",
        "                            num_classes = train_data_10_percent.num_classes)"
      ],
      "metadata": {
        "id": "w5T52OCkCjGH"
      },
      "execution_count": null,
      "outputs": []
    },
    {
      "cell_type": "code",
      "source": [
        "#Compile our resnet model\n",
        "resnet_model.compile(loss=\"categorical_crossentropy\",\n",
        "                     optimizer = tf.keras.optimizers.Adam(),\n",
        "                     metrics = [\"accuracy\"])"
      ],
      "metadata": {
        "id": "4kt-A1RVEzst"
      },
      "execution_count": null,
      "outputs": []
    },
    {
      "cell_type": "code",
      "source": [
        "resnet_model.summary()"
      ],
      "metadata": {
        "colab": {
          "base_uri": "https://localhost:8080/"
        },
        "id": "MYO3htkPDXQK",
        "outputId": "04331f93-ece7-47b1-8c88-9a8f7ab2b2ea"
      },
      "execution_count": null,
      "outputs": [
        {
          "output_type": "stream",
          "name": "stdout",
          "text": [
            "Model: \"sequential\"\n",
            "_________________________________________________________________\n",
            " Layer (type)                Output Shape              Param #   \n",
            "=================================================================\n",
            " feature_extraction (KerasLa  (None, 2048)             23564800  \n",
            " yer)                                                            \n",
            "                                                                 \n",
            " output_layer (Dense)        (None, 10)                20490     \n",
            "                                                                 \n",
            "=================================================================\n",
            "Total params: 23,585,290\n",
            "Trainable params: 20,490\n",
            "Non-trainable params: 23,564,800\n",
            "_________________________________________________________________\n"
          ]
        }
      ]
    },
    {
      "cell_type": "code",
      "source": [
        "resnet_history = resnet_model.fit(train_data_10_percent,\n",
        "                                  epochs = 5,\n",
        "                                  steps_per_epoch = len(train_data_10_percent),\n",
        "                                  validation_data = test_data_10_percent,\n",
        "                                  validation_steps = len(test_data_10_percent),\n",
        "                                  callbacks = [create_tensorboard_callback(dir_name = \"tensorflow_hub\",\n",
        "                                                                           experiment_name = \"resnet50v2\")])"
      ],
      "metadata": {
        "id": "ayc2KQpXErRP",
        "colab": {
          "base_uri": "https://localhost:8080/"
        },
        "outputId": "b1821e5e-efcc-4b8a-c8fd-57eefe3fb371"
      },
      "execution_count": null,
      "outputs": [
        {
          "output_type": "stream",
          "name": "stdout",
          "text": [
            "Saving tensorboard log files to tensorflow_hub/resnet50v2/20230314-144414\n",
            "Epoch 1/5\n",
            "24/24 [==============================] - 23s 848ms/step - loss: 1.8842 - accuracy: 0.3920 - val_loss: 1.1894 - val_accuracy: 0.6220\n",
            "Epoch 2/5\n",
            "24/24 [==============================] - 17s 716ms/step - loss: 0.8900 - accuracy: 0.7320 - val_loss: 0.8471 - val_accuracy: 0.7316\n",
            "Epoch 3/5\n",
            "24/24 [==============================] - 17s 738ms/step - loss: 0.6275 - accuracy: 0.8280 - val_loss: 0.7551 - val_accuracy: 0.7600\n",
            "Epoch 4/5\n",
            "24/24 [==============================] - 17s 712ms/step - loss: 0.4742 - accuracy: 0.8853 - val_loss: 0.7012 - val_accuracy: 0.7692\n",
            "Epoch 5/5\n",
            "24/24 [==============================] - 24s 1s/step - loss: 0.3801 - accuracy: 0.9173 - val_loss: 0.6852 - val_accuracy: 0.7720\n"
          ]
        }
      ]
    },
    {
      "cell_type": "code",
      "source": [
        "resnet_model.evaluate(test_data_10_percent)"
      ],
      "metadata": {
        "colab": {
          "base_uri": "https://localhost:8080/"
        },
        "id": "FKMAgMPeZTGt",
        "outputId": "5e0d1099-9b6a-49ae-f3c1-b79452e9191b"
      },
      "execution_count": null,
      "outputs": [
        {
          "output_type": "stream",
          "name": "stdout",
          "text": [
            "79/79 [==============================] - 14s 171ms/step - loss: 0.7040 - accuracy: 0.7656\n"
          ]
        },
        {
          "output_type": "execute_result",
          "data": {
            "text/plain": [
              "[0.7039613723754883, 0.7656000256538391]"
            ]
          },
          "metadata": {},
          "execution_count": 23
        }
      ]
    },
    {
      "cell_type": "code",
      "source": [
        "def load_and_prep_image(filename,img_shape = 224):\n",
        "  img= tf.io.read_file(filename)\n",
        "  img = tf.image.decode_image(img)\n",
        "  img = tf.image.resize(img,size = [img_shape,img_shape])\n",
        "  img = img/255.\n",
        "  return img"
      ],
      "metadata": {
        "id": "3oPHfJa-bY9b"
      },
      "execution_count": null,
      "outputs": []
    },
    {
      "cell_type": "code",
      "source": [
        "def show_predictions(model,filename,class_names):\n",
        "  img = load_and_prep_image(filename)\n",
        "  pred = model.predict(tf.expand_dims(img,axis=0))\n",
        "  if (len(pred[0])>1):\n",
        "    pred_class = class_names[tf.argmax(pred[0])]\n",
        "  else:\n",
        "    pred_class = class_names[int(tf.round(pred))]\n",
        "  return pred_class"
      ],
      "metadata": {
        "id": "PspnlJ0bak4y"
      },
      "execution_count": null,
      "outputs": []
    },
    {
      "cell_type": "code",
      "source": [
        "!wget https://raw.githubusercontent.com/mrdbourke/tensorflow-deep-learning/main/images/03-sushi.jpeg"
      ],
      "metadata": {
        "colab": {
          "base_uri": "https://localhost:8080/"
        },
        "id": "3EyNje4ucju3",
        "outputId": "efb116f2-524d-43d3-c61a-6b5774616901"
      },
      "execution_count": null,
      "outputs": [
        {
          "output_type": "stream",
          "name": "stdout",
          "text": [
            "--2023-03-14 14:07:19--  https://raw.githubusercontent.com/mrdbourke/tensorflow-deep-learning/main/images/03-sushi.jpeg\n",
            "Resolving raw.githubusercontent.com (raw.githubusercontent.com)... 185.199.108.133, 185.199.109.133, 185.199.110.133, ...\n",
            "Connecting to raw.githubusercontent.com (raw.githubusercontent.com)|185.199.108.133|:443... connected.\n",
            "HTTP request sent, awaiting response... 200 OK\n",
            "Length: 1725178 (1.6M) [image/jpeg]\n",
            "Saving to: ‘03-sushi.jpeg’\n",
            "\n",
            "03-sushi.jpeg       100%[===================>]   1.64M  --.-KB/s    in 0.06s   \n",
            "\n",
            "2023-03-14 14:07:19 (28.1 MB/s) - ‘03-sushi.jpeg’ saved [1725178/1725178]\n",
            "\n"
          ]
        }
      ]
    },
    {
      "cell_type": "code",
      "source": [
        "show_predictions(model = resnet_model,filename = \"03-sushi.jpeg\",class_names = class_names)"
      ],
      "metadata": {
        "colab": {
          "base_uri": "https://localhost:8080/",
          "height": 53
        },
        "id": "kAqbKi2RcFQK",
        "outputId": "b90c808c-24a0-4a88-8eb4-9002b7e4675e"
      },
      "execution_count": null,
      "outputs": [
        {
          "output_type": "stream",
          "name": "stdout",
          "text": [
            "1/1 [==============================] - 0s 33ms/step\n"
          ]
        },
        {
          "output_type": "execute_result",
          "data": {
            "text/plain": [
              "'sushi'"
            ],
            "application/vnd.google.colaboratory.intrinsic+json": {
              "type": "string"
            }
          },
          "metadata": {},
          "execution_count": 31
        }
      ]
    },
    {
      "cell_type": "code",
      "source": [
        "!wget https://raw.githubusercontent.com/mrdbourke/tensorflow-deep-learning/main/images/03-hamburger.jpeg\n"
      ],
      "metadata": {
        "colab": {
          "base_uri": "https://localhost:8080/"
        },
        "id": "CNctW65qdEaB",
        "outputId": "f2a45953-4b48-4eea-bebd-081d4075f80d"
      },
      "execution_count": null,
      "outputs": [
        {
          "output_type": "stream",
          "name": "stdout",
          "text": [
            "--2023-03-14 14:12:15--  https://raw.githubusercontent.com/mrdbourke/tensorflow-deep-learning/main/images/03-hamburger.jpeg\n",
            "Resolving raw.githubusercontent.com (raw.githubusercontent.com)... 185.199.111.133, 185.199.109.133, 185.199.108.133, ...\n",
            "Connecting to raw.githubusercontent.com (raw.githubusercontent.com)|185.199.111.133|:443... connected.\n",
            "HTTP request sent, awaiting response... 200 OK\n",
            "Length: 3564285 (3.4M) [image/jpeg]\n",
            "Saving to: ‘03-hamburger.jpeg’\n",
            "\n",
            "03-hamburger.jpeg   100%[===================>]   3.40M  --.-KB/s    in 0.07s   \n",
            "\n",
            "2023-03-14 14:12:15 (50.4 MB/s) - ‘03-hamburger.jpeg’ saved [3564285/3564285]\n",
            "\n"
          ]
        }
      ]
    },
    {
      "cell_type": "code",
      "source": [
        "show_predictions(model = resnet_model, filename = \"03-hamburger.jpeg\", class_names = class_names)"
      ],
      "metadata": {
        "colab": {
          "base_uri": "https://localhost:8080/",
          "height": 53
        },
        "id": "nXyW44wkduog",
        "outputId": "1b419ce7-89fc-4dcf-a327-78603fb29f41"
      },
      "execution_count": null,
      "outputs": [
        {
          "output_type": "stream",
          "name": "stdout",
          "text": [
            "1/1 [==============================] - 0s 27ms/step\n"
          ]
        },
        {
          "output_type": "execute_result",
          "data": {
            "text/plain": [
              "'hamburger'"
            ],
            "application/vnd.google.colaboratory.intrinsic+json": {
              "type": "string"
            }
          },
          "metadata": {},
          "execution_count": 34
        }
      ]
    },
    {
      "cell_type": "code",
      "source": [
        "import matplotlib.pyplot as plt\n",
        "\n",
        "#Plot the validation and training curves\n",
        "\n",
        "def plot_loss_curves(history):\n",
        "  loss = history.history[\"loss\"]\n",
        "  val_loss = history.history[\"val_loss\"]\n",
        "\n",
        "  accuracy = history.history[\"accuracy\"]\n",
        "  val_accuracy = history.history[\"val_accuracy\"]\n",
        "\n",
        "  epochs = range(len(history.history[\"loss\"]))\n",
        "\n",
        "  plt.plot(epochs, loss, label= \"Training loss\")\n",
        "  plt.plot(epochs, val_loss, label = \"Validatoin Loss\")\n",
        "  plt.title(\"Loss\")\n",
        "  plt.xlabel(\"Epochs\")\n",
        "  plt.legend()\n",
        "\n",
        "  plt.figure()\n",
        "  plt.plot(epochs, accuracy, label=\"Training accuracy\")\n",
        "  plt.plot(epochs, val_accuracy, label = \"Validation accuracy\")\n",
        "  plt.title(\"Accuracy\")\n",
        "  plt.xlabel(\"Epochs\")\n",
        "  plt.legend()"
      ],
      "metadata": {
        "id": "XhFaPmFLd2JL"
      },
      "execution_count": null,
      "outputs": []
    },
    {
      "cell_type": "code",
      "source": [
        "plot_loss_curves(resnet_history)"
      ],
      "metadata": {
        "colab": {
          "base_uri": "https://localhost:8080/",
          "height": 573
        },
        "id": "RQbuzhb1fkLy",
        "outputId": "c1a7db5a-9748-4201-c06c-f5cf9c2b1153"
      },
      "execution_count": null,
      "outputs": [
        {
          "output_type": "display_data",
          "data": {
            "text/plain": [
              "<Figure size 432x288 with 1 Axes>"
            ],
            "image/png": "[encoded data removed]"
          },
          "metadata": {
            "needs_background": "light"
          }
        },
        {
          "output_type": "display_data",
          "data": {
            "text/plain": [
              "<Figure size 432x288 with 1 Axes>"
            ],
            "image/png": "[encoded data removed]"
          },
          "metadata": {
            "needs_background": "light"
          }
        }
      ]
    },
    {
      "cell_type": "markdown",
      "source": [
        "Creating and testing EfficientNetB0 TensorFlow Hub Feature Extraction model"
      ],
      "metadata": {
        "id": "Q8mgN_CafsR0"
      }
    },
    {
      "cell_type": "code",
      "source": [
        "efficientnet_model = create_model(model_url = efficientnet_url,\n",
        "                               num_classes = train_data_10_percent.num_classes)"
      ],
      "metadata": {
        "id": "C_eM8bmcg9kV"
      },
      "execution_count": null,
      "outputs": []
    },
    {
      "cell_type": "code",
      "source": [
        "efficientnet_model.compile(loss=\"categorical_crossentropy\",\n",
        "                          optimizer = tf.keras.optimizers.Adam(),\n",
        "                          metrics=[\"accuracy\"])\n",
        "efficientnet_history = efficientnet_model.fit(train_data_10_percent,\n",
        "                                              epochs = 5,\n",
        "                                              validation_data = test_data_10_percent,\n",
        "                                              steps_per_epoch = len(train_data_10_percent),\n",
        "                                              validation_steps = len(test_data_10_percent),\n",
        "                                              callbacks = [create_tensorboard_callback(dir_name = \"tensorflow_hub\",\n",
        "                                                                                       experiment_name = \"efficientnetb0\")])"
      ],
      "metadata": {
        "colab": {
          "base_uri": "https://localhost:8080/"
        },
        "id": "9wDXEwrEhILO",
        "outputId": "c8ef7321-48c8-4c51-959f-365b2b934330"
      },
      "execution_count": null,
      "outputs": [
        {
          "output_type": "stream",
          "name": "stdout",
          "text": [
            "Saving tensorboard log files to tensorflow_hub/efficientnetb0/20230314-144051\n",
            "Epoch 1/5\n",
            "24/24 [==============================] - 36s 1s/step - loss: 1.8410 - accuracy: 0.4400 - val_loss: 1.2745 - val_accuracy: 0.7244\n",
            "Epoch 2/5\n",
            "24/24 [==============================] - 16s 697ms/step - loss: 1.0527 - accuracy: 0.7627 - val_loss: 0.8568 - val_accuracy: 0.8180\n",
            "Epoch 3/5\n",
            "24/24 [==============================] - 16s 692ms/step - loss: 0.7524 - accuracy: 0.8360 - val_loss: 0.6870 - val_accuracy: 0.8452\n",
            "Epoch 4/5\n",
            "24/24 [==============================] - 17s 721ms/step - loss: 0.6056 - accuracy: 0.8640 - val_loss: 0.6057 - val_accuracy: 0.8604\n",
            "Epoch 5/5\n",
            "24/24 [==============================] - 16s 679ms/step - loss: 0.5146 - accuracy: 0.8907 - val_loss: 0.5505 - val_accuracy: 0.8636\n"
          ]
        }
      ]
    },
    {
      "cell_type": "code",
      "source": [
        "mobilenetv2_model = create_model(mobilenetv2_url,\n",
        "                                 num_classes=train_data_10_percent.num_classes)"
      ],
      "metadata": {
        "id": "c4EjtDkohsP3"
      },
      "execution_count": null,
      "outputs": []
    },
    {
      "cell_type": "code",
      "source": [
        "mobilenetv2_model.compile(loss = \"categorical_crossentropy\",\n",
        "                          optimizer = tf.keras.optimizers.Adam(),\n",
        "                          metrics = \"accuracy\")\n",
        "\n",
        "mobilenetv2_history = mobilenetv2_model.fit(train_data_10_percent,\n",
        "                      epochs = 5,\n",
        "                      steps_per_epoch = len(train_data_10_percent),\n",
        "                      validation_data = test_data_10_percent,\n",
        "                      validation_steps = len(test_data_10_percent),\n",
        "                      callbacks = [create_tensorboard_callback(dir_name = \"tensorflow_hub\",\n",
        "                                                                           experiment_name = \"mobilenetv2\")])"
      ],
      "metadata": {
        "colab": {
          "base_uri": "https://localhost:8080/"
        },
        "id": "mbpykv7nE9I_",
        "outputId": "a591e2fa-d327-410f-b81e-5ebef4b0a7fa"
      },
      "execution_count": null,
      "outputs": [
        {
          "output_type": "stream",
          "name": "stdout",
          "text": [
            "Saving tensorboard log files to tensorflow_hub/mobilenetv2/20230315-162924\n",
            "Epoch 1/5\n",
            "24/24 [==============================] - 26s 1s/step - loss: 0.4506 - accuracy: 0.8747 - val_loss: 0.6259 - val_accuracy: 0.8016\n",
            "Epoch 2/5\n",
            "24/24 [==============================] - 24s 1s/step - loss: 0.3393 - accuracy: 0.9253 - val_loss: 0.6010 - val_accuracy: 0.8028\n",
            "Epoch 3/5\n",
            "24/24 [==============================] - 16s 686ms/step - loss: 0.2818 - accuracy: 0.9533 - val_loss: 0.5793 - val_accuracy: 0.8124\n",
            "Epoch 4/5\n",
            "24/24 [==============================] - 17s 731ms/step - loss: 0.2273 - accuracy: 0.9653 - val_loss: 0.5658 - val_accuracy: 0.8216\n",
            "Epoch 5/5\n",
            "24/24 [==============================] - 16s 693ms/step - loss: 0.1919 - accuracy: 0.9787 - val_loss: 0.5732 - val_accuracy: 0.8064\n"
          ]
        }
      ]
    },
    {
      "cell_type": "code",
      "source": [
        "plot_loss_curves(mobilenetv2_history)"
      ],
      "metadata": {
        "colab": {
          "base_uri": "https://localhost:8080/",
          "height": 573
        },
        "id": "HQYoEcpTGG0E",
        "outputId": "bd8d9d24-e926-4800-f0d5-299b79a8bdbc"
      },
      "execution_count": null,
      "outputs": [
        {
          "output_type": "display_data",
          "data": {
            "text/plain": [
              "<Figure size 432x288 with 1 Axes>"
            ],
            "image/png": "[encoded data removed]"
          },
          "metadata": {
            "needs_background": "light"
          }
        },
        {
          "output_type": "display_data",
          "data": {
            "text/plain": [
              "<Figure size 432x288 with 1 Axes>"
            ],
            "image/png": "[encoded data removed]"
          },
          "metadata": {
            "needs_background": "light"
          }
        }
      ]
    },
    {
      "cell_type": "code",
      "source": [],
      "metadata": {
        "id": "FYCMroGNHJto"
      },
      "execution_count": null,
      "outputs": []
    }
  ]
}